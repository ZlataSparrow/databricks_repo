{
 "cells": [
  {
   "cell_type": "code",
   "execution_count": 0,
   "metadata": {
    "application/vnd.databricks.v1+cell": {
     "cellMetadata": {
      "byteLimit": 2048000,
      "rowLimit": 10000
     },
     "inputWidgets": {},
     "nuid": "fc7054f5-6573-43bf-a243-3344bef8b74d",
     "showTitle": false,
     "tableResultSettingsMap": {
      "0": {
       "dataGridStateBlob": "{\"version\":1,\"tableState\":{\"columnPinning\":{\"left\":[\"#row_number#\"],\"right\":[]},\"columnSizing\":{},\"columnVisibility\":{}},\"settings\":{\"columns\":{}},\"syncTimestamp\":1761175323139}",
       "filterBlob": null,
       "queryPlanFiltersBlob": null,
       "tableResultIndex": 0
      }
     },
     "title": ""
    }
   },
   "outputs": [],
   "source": [
    "from pyspark.sql.types import StructType, StructField, StringType, IntegerType, DoubleType\n",
    "\n",
    "schema = \"customerID STRING, gender STRING, SeniorCitizen DOUBLE, Partner STRING, Dependents STRING, tenure INT, PhoneService STRING, MultipleLines STRING, InternetService STRING, OnlineSecurity STRING, OnlineBackup STRING, DeviceProtection STRING, TechSupport STRING, StreamingTV STRING, StreamingMovies STRING, Contract STRING, PaperlessBilling STRING, PaymentMethod STRING, MonthlyCharges DOUBLE, TotalCharges DOUBLE, Churn STRING\"\n",
    "\n",
    "data = spark.read.options(header=True).schema(schema).csv(\n",
    "    \"/Volumes/workspace/default/customer_churn/customer_churn.csv\"\n",
    ")\n",
    "display(data)"
   ]
  }
 ],
 "metadata": {
  "application/vnd.databricks.v1+notebook": {
   "computePreferences": null,
   "dashboards": [],
   "environmentMetadata": {
    "base_environment": "",
    "environment_version": "4"
   },
   "inputWidgetPreferences": null,
   "language": "python",
   "notebookMetadata": {
    "pythonIndentUnit": 4
   },
   "notebookName": "01_Load_Churn_Data",
   "widgets": {}
  },
  "language_info": {
   "name": "python"
  }
 },
 "nbformat": 4,
 "nbformat_minor": 0
}
